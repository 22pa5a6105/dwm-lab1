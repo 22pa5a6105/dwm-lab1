{
  "nbformat": 4,
  "nbformat_minor": 0,
  "metadata": {
    "colab": {
      "provenance": [],
      "authorship_tag": "ABX9TyO+ypHobV1vIfuTg0Gq4ZF+",
      "include_colab_link": true
    },
    "kernelspec": {
      "name": "python3",
      "display_name": "Python 3"
    },
    "language_info": {
      "name": "python"
    }
  },
  "cells": [
    {
      "cell_type": "markdown",
      "metadata": {
        "id": "view-in-github",
        "colab_type": "text"
      },
      "source": [
        "<a href=\"https://colab.research.google.com/github/22pa5a6105/dwm-lab1/blob/main/Untitled0.ipynb\" target=\"_parent\"><img src=\"https://colab.research.google.com/assets/colab-badge.svg\" alt=\"Open In Colab\"/></a>"
      ]
    },
    {
      "cell_type": "code",
      "execution_count": null,
      "metadata": {
        "colab": {
          "base_uri": "https://localhost:8080/"
        },
        "id": "fXt6lM4PgQb4",
        "outputId": "99647032-0a55-4977-a56a-8b0e4a7e83d3"
      },
      "outputs": [
        {
          "output_type": "stream",
          "name": "stdout",
          "text": [
            "[1 2 3]\n"
          ]
        }
      ],
      "source": [
        "import numpy as np\n",
        "x = np.array([1,2,3])\n",
        "print(x)"
      ]
    },
    {
      "cell_type": "code",
      "source": [
        "import numpy as np\n",
        "y = np.array([[2,3,5],[3,4,5]])\n",
        "print(y)"
      ],
      "metadata": {
        "colab": {
          "base_uri": "https://localhost:8080/"
        },
        "id": "zeUduykEgqFz",
        "outputId": "e4badef2-92d1-46fc-fee8-d9f705b1ee3c"
      },
      "execution_count": null,
      "outputs": [
        {
          "output_type": "stream",
          "name": "stdout",
          "text": [
            "[[2 3 5]\n",
            " [3 4 5]]\n"
          ]
        }
      ]
    },
    {
      "cell_type": "code",
      "source": [
        "import numpy as np\n",
        "np.arange(10,30,1)"
      ],
      "metadata": {
        "colab": {
          "base_uri": "https://localhost:8080/"
        },
        "id": "gsw3X7-ahnUQ",
        "outputId": "5b7be4a9-260f-47d3-9bb8-5b028af591ba"
      },
      "execution_count": null,
      "outputs": [
        {
          "output_type": "execute_result",
          "data": {
            "text/plain": [
              "array([10, 11, 12, 13, 14, 15, 16, 17, 18, 19, 20, 21, 22, 23, 24, 25, 26,\n",
              "       27, 28, 29])"
            ]
          },
          "metadata": {},
          "execution_count": 13
        }
      ]
    },
    {
      "cell_type": "code",
      "source": [
        "import numpy as np\n",
        "x=np.array([3,4,6])\n",
        "a=np.append(x,[2,3,4])\n",
        "print(a)\n",
        "print(\"the element in x before deleting\",x)\n",
        "newarray =np.delete(x,1)\n",
        "print(\"the element in x afetr deleting\",newarray)"
      ],
      "metadata": {
        "colab": {
          "base_uri": "https://localhost:8080/"
        },
        "id": "Jt5pA4Eji2GL",
        "outputId": "8286598e-2718-4451-a98e-40404542effc"
      },
      "execution_count": null,
      "outputs": [
        {
          "output_type": "stream",
          "name": "stdout",
          "text": [
            "[3 4 6 2 3 4]\n",
            "the element in x before deleting [3 4 6]\n",
            "the element in x afetr deleting [3 6]\n"
          ]
        }
      ]
    },
    {
      "cell_type": "code",
      "source": [
        "import numpy as np\n",
        "b=np.array([6,3,4,5,2,7])\n",
        "print(b)\n",
        "b[b<=4]=-2\n",
        "print(b)"
      ],
      "metadata": {
        "colab": {
          "base_uri": "https://localhost:8080/"
        },
        "id": "7at19c0mk11p",
        "outputId": "29c21dac-99d1-465b-c52e-98fe6e1d57e1"
      },
      "execution_count": null,
      "outputs": [
        {
          "output_type": "stream",
          "name": "stdout",
          "text": [
            "[6 3 4 5 2 7]\n",
            "[ 6 -2 -2  5 -2  7]\n"
          ]
        }
      ]
    },
    {
      "cell_type": "code",
      "source": [
        "\n",
        "import numpy as np\n",
        "a=np.array([2,3,4,5,8])\n",
        "b=np.array([5,8,8,9,5])\n",
        "print(a)\n",
        "print(b)\n",
        "print(\"result of add\",a+b)\n",
        "print(\"result of add\",a-b)\n",
        "print(\"result of add\",a*b)"
      ],
      "metadata": {
        "colab": {
          "base_uri": "https://localhost:8080/"
        },
        "id": "k9Q7miWTmFwI",
        "outputId": "c53540a3-b7ec-401c-957a-cb5c615e8700"
      },
      "execution_count": null,
      "outputs": [
        {
          "output_type": "stream",
          "name": "stdout",
          "text": [
            "[2 3 4 5 8]\n",
            "[5 8 8 9 5]\n",
            "result of add [ 7 11 12 14 13]\n",
            "result of add [-3 -5 -4 -4  3]\n",
            "result of add [10 24 32 45 40]\n"
          ]
        }
      ]
    },
    {
      "cell_type": "code",
      "source": [
        "import numpy as np\n",
        "a=np.arange(10)*3\n",
        "print(a)\n",
        "print(a[2:7])\n",
        "print(a[-2])"
      ],
      "metadata": {
        "colab": {
          "base_uri": "https://localhost:8080/"
        },
        "id": "_62qPwTdnwym",
        "outputId": "07585278-481c-4d18-c904-f2b75814df52"
      },
      "execution_count": null,
      "outputs": [
        {
          "output_type": "stream",
          "name": "stdout",
          "text": [
            "[ 0  3  6  9 12 15 18 21 24 27]\n",
            "[ 6  9 12 15 18]\n",
            "24\n"
          ]
        }
      ]
    },
    {
      "cell_type": "code",
      "source": [
        "import numpy as np\n",
        "a=np.array([2,3,4,5,6,77,8,89,9,4]).reshape(5,2)\n",
        "print(a)\n",
        "for i in a:\n",
        " print(i*2)\n"
      ],
      "metadata": {
        "colab": {
          "base_uri": "https://localhost:8080/"
        },
        "id": "t6Or108wpR7A",
        "outputId": "2384e277-f10f-4e58-f390-aa2cf322abf0"
      },
      "execution_count": null,
      "outputs": [
        {
          "output_type": "stream",
          "name": "stdout",
          "text": [
            "[[ 2  3]\n",
            " [ 4  5]\n",
            " [ 6 77]\n",
            " [ 8 89]\n",
            " [ 9  4]]\n",
            "[4 6]\n",
            "[ 8 10]\n",
            "[ 12 154]\n",
            "[ 16 178]\n",
            "[18  8]\n"
          ]
        }
      ]
    },
    {
      "cell_type": "code",
      "source": [
        "import numpy as np\n",
        "a=np.floor(10*np.random.random((3,4)))\n",
        "print(a)\n",
        "print(a.reshape(6,2))\n"
      ],
      "metadata": {
        "colab": {
          "base_uri": "https://localhost:8080/"
        },
        "id": "TkAaRSQzqsur",
        "outputId": "e550d1aa-0e8f-40a2-80da-b1c5cd1ffb34"
      },
      "execution_count": null,
      "outputs": [
        {
          "output_type": "stream",
          "name": "stdout",
          "text": [
            "[[2. 9. 6. 8.]\n",
            " [3. 6. 8. 5.]\n",
            " [3. 4. 0. 4.]]\n",
            "[[2. 9.]\n",
            " [6. 8.]\n",
            " [3. 6.]\n",
            " [8. 5.]\n",
            " [3. 4.]\n",
            " [0. 4.]]\n"
          ]
        }
      ]
    }
  ]
}